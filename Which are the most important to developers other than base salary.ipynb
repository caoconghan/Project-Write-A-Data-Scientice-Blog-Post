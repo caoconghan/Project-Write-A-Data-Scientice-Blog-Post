{
 "cells": [
  {
   "cell_type": "markdown",
   "metadata": {},
   "source": [
    "# What Are The Most  Important to Developers Other Than Base Salary?"
   ]
  },
  {
   "cell_type": "markdown",
   "metadata": {},
   "source": [
    "This program is to solve the **Business Questions** below\n",
    "   * To developers, what are the most **important** benifit other than base salary ?\n",
    "   * If some of the individuals might have bias towards their own **degrees** ?\n",
    "   * If some of the individuals might have bias towards their **gender** ?\n",
    "   "
   ]
  },
  {
   "cell_type": "markdown",
   "metadata": {},
   "source": [
    "Data Understanding\n",
    " *  **ImportantBenefits** Column"
   ]
  },
  {
   "cell_type": "markdown",
   "metadata": {},
   "source": [
    "Import libraties and and show the top five datesets"
   ]
  },
  {
   "cell_type": "code",
   "execution_count": 2,
   "metadata": {},
   "outputs": [
    {
     "data": {
      "text/html": [
       "<div>\n",
       "<style scoped>\n",
       "    .dataframe tbody tr th:only-of-type {\n",
       "        vertical-align: middle;\n",
       "    }\n",
       "\n",
       "    .dataframe tbody tr th {\n",
       "        vertical-align: top;\n",
       "    }\n",
       "\n",
       "    .dataframe thead th {\n",
       "        text-align: right;\n",
       "    }\n",
       "</style>\n",
       "<table border=\"1\" class=\"dataframe\">\n",
       "  <thead>\n",
       "    <tr style=\"text-align: right;\">\n",
       "      <th></th>\n",
       "      <th>Respondent</th>\n",
       "      <th>Professional</th>\n",
       "      <th>ProgramHobby</th>\n",
       "      <th>Country</th>\n",
       "      <th>University</th>\n",
       "      <th>EmploymentStatus</th>\n",
       "      <th>FormalEducation</th>\n",
       "      <th>MajorUndergrad</th>\n",
       "      <th>HomeRemote</th>\n",
       "      <th>CompanySize</th>\n",
       "      <th>...</th>\n",
       "      <th>StackOverflowMakeMoney</th>\n",
       "      <th>Gender</th>\n",
       "      <th>HighestEducationParents</th>\n",
       "      <th>Race</th>\n",
       "      <th>SurveyLong</th>\n",
       "      <th>QuestionsInteresting</th>\n",
       "      <th>QuestionsConfusing</th>\n",
       "      <th>InterestedAnswers</th>\n",
       "      <th>Salary</th>\n",
       "      <th>ExpectedSalary</th>\n",
       "    </tr>\n",
       "  </thead>\n",
       "  <tbody>\n",
       "    <tr>\n",
       "      <th>0</th>\n",
       "      <td>1</td>\n",
       "      <td>Student</td>\n",
       "      <td>Yes, both</td>\n",
       "      <td>United States</td>\n",
       "      <td>No</td>\n",
       "      <td>Not employed, and not looking for work</td>\n",
       "      <td>Secondary school</td>\n",
       "      <td>NaN</td>\n",
       "      <td>NaN</td>\n",
       "      <td>NaN</td>\n",
       "      <td>...</td>\n",
       "      <td>Strongly disagree</td>\n",
       "      <td>Male</td>\n",
       "      <td>High school</td>\n",
       "      <td>White or of European descent</td>\n",
       "      <td>Strongly disagree</td>\n",
       "      <td>Strongly agree</td>\n",
       "      <td>Disagree</td>\n",
       "      <td>Strongly agree</td>\n",
       "      <td>NaN</td>\n",
       "      <td>NaN</td>\n",
       "    </tr>\n",
       "    <tr>\n",
       "      <th>1</th>\n",
       "      <td>2</td>\n",
       "      <td>Student</td>\n",
       "      <td>Yes, both</td>\n",
       "      <td>United Kingdom</td>\n",
       "      <td>Yes, full-time</td>\n",
       "      <td>Employed part-time</td>\n",
       "      <td>Some college/university study without earning ...</td>\n",
       "      <td>Computer science or software engineering</td>\n",
       "      <td>More than half, but not all, the time</td>\n",
       "      <td>20 to 99 employees</td>\n",
       "      <td>...</td>\n",
       "      <td>Strongly disagree</td>\n",
       "      <td>Male</td>\n",
       "      <td>A master's degree</td>\n",
       "      <td>White or of European descent</td>\n",
       "      <td>Somewhat agree</td>\n",
       "      <td>Somewhat agree</td>\n",
       "      <td>Disagree</td>\n",
       "      <td>Strongly agree</td>\n",
       "      <td>NaN</td>\n",
       "      <td>37500.0</td>\n",
       "    </tr>\n",
       "    <tr>\n",
       "      <th>2</th>\n",
       "      <td>3</td>\n",
       "      <td>Professional developer</td>\n",
       "      <td>Yes, both</td>\n",
       "      <td>United Kingdom</td>\n",
       "      <td>No</td>\n",
       "      <td>Employed full-time</td>\n",
       "      <td>Bachelor's degree</td>\n",
       "      <td>Computer science or software engineering</td>\n",
       "      <td>Less than half the time, but at least one day ...</td>\n",
       "      <td>10,000 or more employees</td>\n",
       "      <td>...</td>\n",
       "      <td>Disagree</td>\n",
       "      <td>Male</td>\n",
       "      <td>A professional degree</td>\n",
       "      <td>White or of European descent</td>\n",
       "      <td>Somewhat agree</td>\n",
       "      <td>Agree</td>\n",
       "      <td>Disagree</td>\n",
       "      <td>Agree</td>\n",
       "      <td>113750.0</td>\n",
       "      <td>NaN</td>\n",
       "    </tr>\n",
       "    <tr>\n",
       "      <th>3</th>\n",
       "      <td>4</td>\n",
       "      <td>Professional non-developer who sometimes write...</td>\n",
       "      <td>Yes, both</td>\n",
       "      <td>United States</td>\n",
       "      <td>No</td>\n",
       "      <td>Employed full-time</td>\n",
       "      <td>Doctoral degree</td>\n",
       "      <td>A non-computer-focused engineering discipline</td>\n",
       "      <td>Less than half the time, but at least one day ...</td>\n",
       "      <td>10,000 or more employees</td>\n",
       "      <td>...</td>\n",
       "      <td>Disagree</td>\n",
       "      <td>Male</td>\n",
       "      <td>A doctoral degree</td>\n",
       "      <td>White or of European descent</td>\n",
       "      <td>Agree</td>\n",
       "      <td>Agree</td>\n",
       "      <td>Somewhat agree</td>\n",
       "      <td>Strongly agree</td>\n",
       "      <td>NaN</td>\n",
       "      <td>NaN</td>\n",
       "    </tr>\n",
       "    <tr>\n",
       "      <th>4</th>\n",
       "      <td>5</td>\n",
       "      <td>Professional developer</td>\n",
       "      <td>Yes, I program as a hobby</td>\n",
       "      <td>Switzerland</td>\n",
       "      <td>No</td>\n",
       "      <td>Employed full-time</td>\n",
       "      <td>Master's degree</td>\n",
       "      <td>Computer science or software engineering</td>\n",
       "      <td>Never</td>\n",
       "      <td>10 to 19 employees</td>\n",
       "      <td>...</td>\n",
       "      <td>NaN</td>\n",
       "      <td>NaN</td>\n",
       "      <td>NaN</td>\n",
       "      <td>NaN</td>\n",
       "      <td>NaN</td>\n",
       "      <td>NaN</td>\n",
       "      <td>NaN</td>\n",
       "      <td>NaN</td>\n",
       "      <td>NaN</td>\n",
       "      <td>NaN</td>\n",
       "    </tr>\n",
       "  </tbody>\n",
       "</table>\n",
       "<p>5 rows × 154 columns</p>\n",
       "</div>"
      ],
      "text/plain": [
       "   Respondent                                       Professional  \\\n",
       "0           1                                            Student   \n",
       "1           2                                            Student   \n",
       "2           3                             Professional developer   \n",
       "3           4  Professional non-developer who sometimes write...   \n",
       "4           5                             Professional developer   \n",
       "\n",
       "                ProgramHobby         Country      University  \\\n",
       "0                  Yes, both   United States              No   \n",
       "1                  Yes, both  United Kingdom  Yes, full-time   \n",
       "2                  Yes, both  United Kingdom              No   \n",
       "3                  Yes, both   United States              No   \n",
       "4  Yes, I program as a hobby     Switzerland              No   \n",
       "\n",
       "                         EmploymentStatus  \\\n",
       "0  Not employed, and not looking for work   \n",
       "1                      Employed part-time   \n",
       "2                      Employed full-time   \n",
       "3                      Employed full-time   \n",
       "4                      Employed full-time   \n",
       "\n",
       "                                     FormalEducation  \\\n",
       "0                                   Secondary school   \n",
       "1  Some college/university study without earning ...   \n",
       "2                                  Bachelor's degree   \n",
       "3                                    Doctoral degree   \n",
       "4                                    Master's degree   \n",
       "\n",
       "                                  MajorUndergrad  \\\n",
       "0                                            NaN   \n",
       "1       Computer science or software engineering   \n",
       "2       Computer science or software engineering   \n",
       "3  A non-computer-focused engineering discipline   \n",
       "4       Computer science or software engineering   \n",
       "\n",
       "                                          HomeRemote  \\\n",
       "0                                                NaN   \n",
       "1              More than half, but not all, the time   \n",
       "2  Less than half the time, but at least one day ...   \n",
       "3  Less than half the time, but at least one day ...   \n",
       "4                                              Never   \n",
       "\n",
       "                CompanySize       ...       StackOverflowMakeMoney Gender  \\\n",
       "0                       NaN       ...            Strongly disagree   Male   \n",
       "1        20 to 99 employees       ...            Strongly disagree   Male   \n",
       "2  10,000 or more employees       ...                     Disagree   Male   \n",
       "3  10,000 or more employees       ...                     Disagree   Male   \n",
       "4        10 to 19 employees       ...                          NaN    NaN   \n",
       "\n",
       "  HighestEducationParents                          Race         SurveyLong  \\\n",
       "0             High school  White or of European descent  Strongly disagree   \n",
       "1       A master's degree  White or of European descent     Somewhat agree   \n",
       "2   A professional degree  White or of European descent     Somewhat agree   \n",
       "3       A doctoral degree  White or of European descent              Agree   \n",
       "4                     NaN                           NaN                NaN   \n",
       "\n",
       "  QuestionsInteresting QuestionsConfusing InterestedAnswers    Salary  \\\n",
       "0       Strongly agree           Disagree    Strongly agree       NaN   \n",
       "1       Somewhat agree           Disagree    Strongly agree       NaN   \n",
       "2                Agree           Disagree             Agree  113750.0   \n",
       "3                Agree     Somewhat agree    Strongly agree       NaN   \n",
       "4                  NaN                NaN               NaN       NaN   \n",
       "\n",
       "   ExpectedSalary  \n",
       "0             NaN  \n",
       "1         37500.0  \n",
       "2             NaN  \n",
       "3             NaN  \n",
       "4             NaN  \n",
       "\n",
       "[5 rows x 154 columns]"
      ]
     },
     "execution_count": 2,
     "metadata": {},
     "output_type": "execute_result"
    }
   ],
   "source": [
    "import numpy as np\n",
    "import pandas as pd\n",
    "import matplotlib.pyplot as plt\n",
    "import seaborn as sns\n",
    "import HowToBreakIntoTheField as t\n",
    "%matplotlib inline\n",
    "\n",
    "df = pd.read_csv('./survey_results_public.csv')\n",
    "schema = pd.read_csv('./survey_results_schema.csv')\n",
    "df.head()"
   ]
  },
  {
   "cell_type": "markdown",
   "metadata": {},
   "source": [
    "This function `get_description` is to get the column's description"
   ]
  },
  {
   "cell_type": "code",
   "execution_count": 3,
   "metadata": {},
   "outputs": [
    {
     "data": {
      "text/plain": [
       "'Respondent ID number'"
      ]
     },
     "execution_count": 3,
     "metadata": {},
     "output_type": "execute_result"
    }
   ],
   "source": [
    "def get_description(column_name, schema=schema):\n",
    "    '''\n",
    "    INPUT - schema - pandas dataframe with the schema of the developers survey\n",
    "            column_name - string - the name of the column you would like to know about\n",
    "    OUTPUT - \n",
    "            desc - string - the description of the column\n",
    "    '''\n",
    "    desc = list(schema[schema['Column'] == column_name]['Question'])[0]\n",
    "    return desc\n",
    "\n",
    "#test your code\n",
    "#Check your function against solution - you shouldn't need to change any of the below code\n",
    "get_description(df.columns[0]) # This should return a string of the first column description"
   ]
  },
  {
   "cell_type": "code",
   "execution_count": 4,
   "metadata": {},
   "outputs": [],
   "source": [
    "#Check your function against solution - you shouldn't need to change any of the below code\n",
    "descrips = set(get_description(col) for col in df.columns)\n",
    "#t.check_description(descrips)"
   ]
  },
  {
   "cell_type": "code",
   "execution_count": 5,
   "metadata": {},
   "outputs": [
    {
     "data": {
      "text/plain": [
       "'When it comes to compensation and benefits, other than base salary, which of the following are most important to you?'"
      ]
     },
     "execution_count": 5,
     "metadata": {},
     "output_type": "execute_result"
    }
   ],
   "source": [
    "get_description('ImportantBenefits')"
   ]
  },
  {
   "cell_type": "markdown",
   "metadata": {},
   "source": [
    "## 1 The most important benifit"
   ]
  },
  {
   "cell_type": "markdown",
   "metadata": {},
   "source": [
    "These codes below show the top the most important benifits are **Vacation/days off**，**emote options**\n",
    " and **Health benefits**"
   ]
  },
  {
   "cell_type": "code",
   "execution_count": 6,
   "metadata": {},
   "outputs": [],
   "source": [
    "#get ImportantBenrfits value counts\n",
    "impobf_vals=df.ImportantBenefits.value_counts()\n"
   ]
  },
  {
   "cell_type": "markdown",
   "metadata": {},
   "source": [
    "Clean the data and plot the important benifit"
   ]
  },
  {
   "cell_type": "code",
   "execution_count": 7,
   "metadata": {},
   "outputs": [
    {
     "data": {
      "image/png": "[encoded data removed]",
      "text/plain": [
       "<Figure size 432x288 with 1 Axes>"
      ]
     },
     "metadata": {
      "needs_background": "light"
     },
     "output_type": "display_data"
    }
   ],
   "source": [
    "possible_vals = [\"Stock options\", \"Retirement\",\"Annual bonus\", \n",
    "                 \"Vacation/days off\", \"Charitablet-upse match\",\"Health benefits\",\n",
    "                 \"Equipment\", \" Private office\", \"Professional development sponsorship\",\n",
    "                 \"Education sponsorship\", \"Long-term leave\",\"Expected work hours\",\n",
    "                 \"emote options\", \" Child/elder care\", \"None of these\"]\n",
    "\n",
    "def clean_and_plot(df, title='Most Important Benifit', plot=True):\n",
    "    '''\n",
    "    INPUT \n",
    "        df - a dataframe holding the ImportantBenefits column\n",
    "        title - string the title of your plot\n",
    "        axis - axis object\n",
    "        plot - bool providing whether or not you want a plot back\n",
    "        \n",
    "    OUTPUT\n",
    "        study_df - a dataframe with the count of how many individuals\n",
    "        Displays a plot of pretty things related to the ImportantBenefits column.\n",
    "    '''\n",
    "    study = df['ImportantBenefits'].value_counts().reset_index()\n",
    "    study.rename(columns={'index': 'benifit', 'ImportantBenefits': 'count'}, inplace=True)\n",
    "    study_df = t.total_count(study, 'benifit', 'count', possible_vals)\n",
    "\n",
    "    study_df.set_index('benifit', inplace=True)\n",
    "    if plot:\n",
    "        (study_df/study_df.sum()).plot(kind='bar', legend=None);\n",
    "        plt.title(title);\n",
    "        plt.show()\n",
    "    props_study_df = study_df/study_df.sum()\n",
    "    return props_study_df\n",
    "    \n",
    "props_df = clean_and_plot(df)# plot the clean data and show the most important benifit"
   ]
  },
  {
   "cell_type": "markdown",
   "metadata": {},
   "source": [
    "## 2 Degees Influence "
   ]
  },
  {
   "cell_type": "markdown",
   "metadata": {},
   "source": [
    "These codes below show the influence of **degrees** on result."
   ]
  },
  {
   "cell_type": "markdown",
   "metadata": {},
   "source": [
    "Determine if the data is higher degree"
   ]
  },
  {
   "cell_type": "code",
   "execution_count": 8,
   "metadata": {},
   "outputs": [],
   "source": [
    "def higher_ed(formal_ed_str):\n",
    "    '''\n",
    "    INPUT\n",
    "        formal_ed_str - a string of one of the values from the Formal Education column\n",
    "    \n",
    "    OUTPUT\n",
    "        return 1 if the string is  in (\"Master's degree\", \"Doctoral\", \"Professional degree\")\n",
    "        return 0 otherwise\n",
    "    \n",
    "    '''\n",
    "    if formal_ed_str in (\"Master's degree\", \"Doctoral\", \"Professional degree\"):\n",
    "        return 1\n",
    "    else:\n",
    "        return 0\n",
    "    \n",
    "\n",
    "#df[\"FormalEducation\"].apply(higher_ed)[:5] #Test your function to assure it provides 1 and 0 values for the df"
   ]
  },
  {
   "cell_type": "markdown",
   "metadata": {},
   "source": [
    "Get percent of Higher Education"
   ]
  },
  {
   "cell_type": "code",
   "execution_count": 9,
   "metadata": {},
   "outputs": [
    {
     "name": "stdout",
     "output_type": "stream",
     "text": [
      "Nice job!  That's right.  The percentage of individuals in these three groups is 0.23069738480697385.\n"
     ]
    }
   ],
   "source": [
    "# Check your code here\n",
    "df['HigherEd'] = df[\"FormalEducation\"].apply(higher_ed)\n",
    "higher_ed_perc = df['HigherEd'].mean()\n",
    "t.higher_ed_test(higher_ed_perc)"
   ]
  },
  {
   "cell_type": "markdown",
   "metadata": {},
   "source": [
    "Get Higher Education rows and Lower Educationv Rows"
   ]
  },
  {
   "cell_type": "code",
   "execution_count": 10,
   "metadata": {},
   "outputs": [],
   "source": [
    "ed_1 = df[df['HigherEd'] == 1] # Subset df to only those with HigherEd of 1\n",
    "ed_0 = df[df['HigherEd'] == 0] # Subset df to only those with HigherEd of 0\n",
    "\n",
    "\n",
    "#print(ed_1['HigherEd'][:5]) #Assure it looks like what you would expect\n",
    "#print(ed_0['HigherEd'][:5]) #Assure it looks like what you would expect"
   ]
  },
  {
   "cell_type": "markdown",
   "metadata": {},
   "source": [
    "These **form** below show for **Higher and Lower Educition** the top 3 most important benifits are all Vacation/days off，emote optionsand Health benefits"
   ]
  },
  {
   "cell_type": "markdown",
   "metadata": {},
   "source": [
    "This **form** shows the difference of Higher and Lower Education\n",
    "\n",
    "_Higher_ **Bigger** than _Lower_ is\n",
    "* Vacation/days off\n",
    "* Professional development sponsorship\n",
    "* Stock options\n",
    "\n",
    "_Higher_ **Smaller** than _Lower_ is\n",
    "* Health benefits\n",
    "* Equipment\n",
    "* PEducation sponsorship"
   ]
  },
  {
   "cell_type": "markdown",
   "metadata": {},
   "source": [
    "To show the Diff between Higher(ed_1_perc) and Low(ed_0_perc) Education"
   ]
  },
  {
   "cell_type": "code",
   "execution_count": 11,
   "metadata": {},
   "outputs": [
    {
     "data": {
      "text/html": [
       "<style  type=\"text/css\" >\n",
       "    #T_c1623f64_fe10_11e8_99f1_28c63ff4f2b2row0_col2 {\n",
       "            width:  10em;\n",
       "             height:  80%;\n",
       "            background:  linear-gradient(90deg, transparent 0%, transparent 52.2%, #5fba7d 52.2%, #5fba7d 100.0%, transparent 100.0%);\n",
       "        }    #T_c1623f64_fe10_11e8_99f1_28c63ff4f2b2row1_col2 {\n",
       "            width:  10em;\n",
       "             height:  80%;\n",
       "            background:  linear-gradient(90deg, transparent 0%, transparent 52.2%, #5fba7d 52.2%, #5fba7d 56.8%, transparent 56.8%);\n",
       "        }    #T_c1623f64_fe10_11e8_99f1_28c63ff4f2b2row2_col2 {\n",
       "            width:  10em;\n",
       "             height:  80%;\n",
       "            background:  linear-gradient(90deg, transparent 0%, transparent 8.1%, #d65f5f 8.1%, #d65f5f 52.2%, transparent 52.2%);\n",
       "        }    #T_c1623f64_fe10_11e8_99f1_28c63ff4f2b2row3_col2 {\n",
       "            width:  10em;\n",
       "             height:  80%;\n",
       "            background:  linear-gradient(90deg, transparent 0%, transparent 52.2%, #5fba7d 52.2%, #5fba7d 57.8%, transparent 57.8%);\n",
       "        }    #T_c1623f64_fe10_11e8_99f1_28c63ff4f2b2row4_col2 {\n",
       "            width:  10em;\n",
       "             height:  80%;\n",
       "            background:  linear-gradient(90deg, transparent 0%, transparent 52.2%, #5fba7d 52.2%, #5fba7d 83.4%, transparent 83.4%);\n",
       "        }    #T_c1623f64_fe10_11e8_99f1_28c63ff4f2b2row5_col2 {\n",
       "            width:  10em;\n",
       "             height:  80%;\n",
       "            background:  linear-gradient(90deg, transparent 0%, transparent 0.0%, #d65f5f 0.0%, #d65f5f 52.2%, transparent 52.2%);\n",
       "        }    #T_c1623f64_fe10_11e8_99f1_28c63ff4f2b2row6_col2 {\n",
       "            width:  10em;\n",
       "             height:  80%;\n",
       "            background:  linear-gradient(90deg, transparent 0%, transparent 52.2%, #5fba7d 52.2%, #5fba7d 67.2%, transparent 67.2%);\n",
       "        }    #T_c1623f64_fe10_11e8_99f1_28c63ff4f2b2row7_col2 {\n",
       "            width:  10em;\n",
       "             height:  80%;\n",
       "            background:  linear-gradient(90deg, transparent 0%, transparent 36.0%, #d65f5f 36.0%, #d65f5f 52.2%, transparent 52.2%);\n",
       "        }    #T_c1623f64_fe10_11e8_99f1_28c63ff4f2b2row8_col2 {\n",
       "            width:  10em;\n",
       "             height:  80%;\n",
       "            background:  linear-gradient(90deg, transparent 0%, transparent 52.2%, #5fba7d 52.2%, #5fba7d 79.5%, transparent 79.5%);\n",
       "        }    #T_c1623f64_fe10_11e8_99f1_28c63ff4f2b2row9_col2 {\n",
       "            width:  10em;\n",
       "             height:  80%;\n",
       "            background:  linear-gradient(90deg, transparent 0%, transparent 52.2%, #5fba7d 52.2%, #5fba7d 73.2%, transparent 73.2%);\n",
       "        }    #T_c1623f64_fe10_11e8_99f1_28c63ff4f2b2row10_col2 {\n",
       "            width:  10em;\n",
       "             height:  80%;\n",
       "            background:  linear-gradient(90deg, transparent 0%, transparent 5.2%, #d65f5f 5.2%, #d65f5f 52.2%, transparent 52.2%);\n",
       "        }    #T_c1623f64_fe10_11e8_99f1_28c63ff4f2b2row11_col2 {\n",
       "            width:  10em;\n",
       "             height:  80%;\n",
       "            background:  linear-gradient(90deg, transparent 0%, transparent 52.2%, #5fba7d 52.2%, #5fba7d 79.8%, transparent 79.8%);\n",
       "        }    #T_c1623f64_fe10_11e8_99f1_28c63ff4f2b2row12_col2 {\n",
       "            width:  10em;\n",
       "             height:  80%;\n",
       "            background:  linear-gradient(90deg, transparent 0%, transparent 37.8%, #d65f5f 37.8%, #d65f5f 52.2%, transparent 52.2%);\n",
       "        }    #T_c1623f64_fe10_11e8_99f1_28c63ff4f2b2row13_col2 {\n",
       "            width:  10em;\n",
       "             height:  80%;\n",
       "            background:  linear-gradient(90deg, transparent 0%, transparent 45.6%, #d65f5f 45.6%, #d65f5f 52.2%, transparent 52.2%);\n",
       "        }</style>  \n",
       "<table id=\"T_c1623f64_fe10_11e8_99f1_28c63ff4f2b2\" > \n",
       "<thead>    <tr> \n",
       "        <th class=\"blank level0\" ></th> \n",
       "        <th class=\"col_heading level0 col0\" >ed_1_perc</th> \n",
       "        <th class=\"col_heading level0 col1\" >ed_0_perc</th> \n",
       "        <th class=\"col_heading level0 col2\" >Diff_HigherEd_Vals</th> \n",
       "    </tr>    <tr> \n",
       "        <th class=\"index_name level0\" >benifit</th> \n",
       "        <th class=\"blank\" ></th> \n",
       "        <th class=\"blank\" ></th> \n",
       "        <th class=\"blank\" ></th> \n",
       "    </tr></thead> \n",
       "<tbody>    <tr> \n",
       "        <th id=\"T_c1623f64_fe10_11e8_99f1_28c63ff4f2b2level0_row0\" class=\"row_heading level0 row0\" >Vacation/days off</th> \n",
       "        <td id=\"T_c1623f64_fe10_11e8_99f1_28c63ff4f2b2row0_col0\" class=\"data row0 col0\" >0.146161</td> \n",
       "        <td id=\"T_c1623f64_fe10_11e8_99f1_28c63ff4f2b2row0_col1\" class=\"data row0 col1\" >0.138516</td> \n",
       "        <td id=\"T_c1623f64_fe10_11e8_99f1_28c63ff4f2b2row0_col2\" class=\"data row0 col2\" >0.00764568</td> \n",
       "    </tr>    <tr> \n",
       "        <th id=\"T_c1623f64_fe10_11e8_99f1_28c63ff4f2b2level0_row1\" class=\"row_heading level0 row1\" >emote options</th> \n",
       "        <td id=\"T_c1623f64_fe10_11e8_99f1_28c63ff4f2b2row1_col0\" class=\"data row1 col0\" >0.131766</td> \n",
       "        <td id=\"T_c1623f64_fe10_11e8_99f1_28c63ff4f2b2row1_col1\" class=\"data row1 col1\" >0.131019</td> \n",
       "        <td id=\"T_c1623f64_fe10_11e8_99f1_28c63ff4f2b2row1_col2\" class=\"data row1 col2\" >0.000747026</td> \n",
       "    </tr>    <tr> \n",
       "        <th id=\"T_c1623f64_fe10_11e8_99f1_28c63ff4f2b2level0_row2\" class=\"row_heading level0 row2\" >Health benefits</th> \n",
       "        <td id=\"T_c1623f64_fe10_11e8_99f1_28c63ff4f2b2row2_col0\" class=\"data row2 col0\" >0.110605</td> \n",
       "        <td id=\"T_c1623f64_fe10_11e8_99f1_28c63ff4f2b2row2_col1\" class=\"data row2 col1\" >0.117655</td> \n",
       "        <td id=\"T_c1623f64_fe10_11e8_99f1_28c63ff4f2b2row2_col2\" class=\"data row2 col2\" >-0.0070504</td> \n",
       "    </tr>    <tr> \n",
       "        <th id=\"T_c1623f64_fe10_11e8_99f1_28c63ff4f2b2level0_row3\" class=\"row_heading level0 row3\" >Expected work hours</th> \n",
       "        <td id=\"T_c1623f64_fe10_11e8_99f1_28c63ff4f2b2row3_col0\" class=\"data row3 col0\" >0.109638</td> \n",
       "        <td id=\"T_c1623f64_fe10_11e8_99f1_28c63ff4f2b2row3_col1\" class=\"data row3 col1\" >0.108742</td> \n",
       "        <td id=\"T_c1623f64_fe10_11e8_99f1_28c63ff4f2b2row3_col2\" class=\"data row3 col2\" >0.000895809</td> \n",
       "    </tr>    <tr> \n",
       "        <th id=\"T_c1623f64_fe10_11e8_99f1_28c63ff4f2b2level0_row4\" class=\"row_heading level0 row4\" >Professional development sponsorship</th> \n",
       "        <td id=\"T_c1623f64_fe10_11e8_99f1_28c63ff4f2b2row4_col0\" class=\"data row4 col0\" >0.0968655</td> \n",
       "        <td id=\"T_c1623f64_fe10_11e8_99f1_28c63ff4f2b2row4_col1\" class=\"data row4 col1\" >0.0918752</td> \n",
       "        <td id=\"T_c1623f64_fe10_11e8_99f1_28c63ff4f2b2row4_col2\" class=\"data row4 col2\" >0.00499031</td> \n",
       "    </tr>    <tr> \n",
       "        <th id=\"T_c1623f64_fe10_11e8_99f1_28c63ff4f2b2level0_row5\" class=\"row_heading level0 row5\" >Equipment</th> \n",
       "        <td id=\"T_c1623f64_fe10_11e8_99f1_28c63ff4f2b2row5_col0\" class=\"data row5 col0\" >0.0923088</td> \n",
       "        <td id=\"T_c1623f64_fe10_11e8_99f1_28c63ff4f2b2row5_col1\" class=\"data row5 col1\" >0.10065</td> \n",
       "        <td id=\"T_c1623f64_fe10_11e8_99f1_28c63ff4f2b2row5_col2\" class=\"data row5 col2\" >-0.0083408</td> \n",
       "    </tr>    <tr> \n",
       "        <th id=\"T_c1623f64_fe10_11e8_99f1_28c63ff4f2b2level0_row6\" class=\"row_heading level0 row6\" >Annual bonus</th> \n",
       "        <td id=\"T_c1623f64_fe10_11e8_99f1_28c63ff4f2b2row6_col0\" class=\"data row6 col0\" >0.0796396</td> \n",
       "        <td id=\"T_c1623f64_fe10_11e8_99f1_28c63ff4f2b2row6_col1\" class=\"data row6 col1\" >0.0772335</td> \n",
       "        <td id=\"T_c1623f64_fe10_11e8_99f1_28c63ff4f2b2row6_col2\" class=\"data row6 col2\" >0.00240608</td> \n",
       "    </tr>    <tr> \n",
       "        <th id=\"T_c1623f64_fe10_11e8_99f1_28c63ff4f2b2level0_row7\" class=\"row_heading level0 row7\" >Retirement</th> \n",
       "        <td id=\"T_c1623f64_fe10_11e8_99f1_28c63ff4f2b2row7_col0\" class=\"data row7 col0\" >0.0627934</td> \n",
       "        <td id=\"T_c1623f64_fe10_11e8_99f1_28c63ff4f2b2row7_col1\" class=\"data row7 col1\" >0.0653817</td> \n",
       "        <td id=\"T_c1623f64_fe10_11e8_99f1_28c63ff4f2b2row7_col2\" class=\"data row7 col2\" >-0.00258832</td> \n",
       "    </tr>    <tr> \n",
       "        <th id=\"T_c1623f64_fe10_11e8_99f1_28c63ff4f2b2level0_row8\" class=\"row_heading level0 row8\" >Stock options</th> \n",
       "        <td id=\"T_c1623f64_fe10_11e8_99f1_28c63ff4f2b2row8_col0\" class=\"data row8 col0\" >0.0393883</td> \n",
       "        <td id=\"T_c1623f64_fe10_11e8_99f1_28c63ff4f2b2row8_col1\" class=\"data row8 col1\" >0.0350122</td> \n",
       "        <td id=\"T_c1623f64_fe10_11e8_99f1_28c63ff4f2b2row8_col2\" class=\"data row8 col2\" >0.00437604</td> \n",
       "    </tr>    <tr> \n",
       "        <th id=\"T_c1623f64_fe10_11e8_99f1_28c63ff4f2b2level0_row9\" class=\"row_heading level0 row9\" >Long-term leave</th> \n",
       "        <td id=\"T_c1623f64_fe10_11e8_99f1_28c63ff4f2b2row9_col0\" class=\"data row9 col0\" >0.0380075</td> \n",
       "        <td id=\"T_c1623f64_fe10_11e8_99f1_28c63ff4f2b2row9_col1\" class=\"data row9 col1\" >0.0346502</td> \n",
       "        <td id=\"T_c1623f64_fe10_11e8_99f1_28c63ff4f2b2row9_col2\" class=\"data row9 col2\" >0.00335726</td> \n",
       "    </tr>    <tr> \n",
       "        <th id=\"T_c1623f64_fe10_11e8_99f1_28c63ff4f2b2level0_row10\" class=\"row_heading level0 row10\" >Education sponsorship</th> \n",
       "        <td id=\"T_c1623f64_fe10_11e8_99f1_28c63ff4f2b2row10_col0\" class=\"data row10 col0\" >0.0374206</td> \n",
       "        <td id=\"T_c1623f64_fe10_11e8_99f1_28c63ff4f2b2row10_col1\" class=\"data row10 col1\" >0.044926</td> \n",
       "        <td id=\"T_c1623f64_fe10_11e8_99f1_28c63ff4f2b2row10_col2\" class=\"data row10 col2\" >-0.00750539</td> \n",
       "    </tr>    <tr> \n",
       "        <th id=\"T_c1623f64_fe10_11e8_99f1_28c63ff4f2b2level0_row11\" class=\"row_heading level0 row11\" > Child/elder care</th> \n",
       "        <td id=\"T_c1623f64_fe10_11e8_99f1_28c63ff4f2b2row11_col0\" class=\"data row11 col0\" >0.0254419</td> \n",
       "        <td id=\"T_c1623f64_fe10_11e8_99f1_28c63ff4f2b2row11_col1\" class=\"data row11 col1\" >0.0210308</td> \n",
       "        <td id=\"T_c1623f64_fe10_11e8_99f1_28c63ff4f2b2row11_col2\" class=\"data row11 col2\" >0.00441109</td> \n",
       "    </tr>    <tr> \n",
       "        <th id=\"T_c1623f64_fe10_11e8_99f1_28c63ff4f2b2level0_row12\" class=\"row_heading level0 row12\" > Private office</th> \n",
       "        <td id=\"T_c1623f64_fe10_11e8_99f1_28c63ff4f2b2row12_col0\" class=\"data row12 col0\" >0.0246824</td> \n",
       "        <td id=\"T_c1623f64_fe10_11e8_99f1_28c63ff4f2b2row12_col1\" class=\"data row12 col1\" >0.0269833</td> \n",
       "        <td id=\"T_c1623f64_fe10_11e8_99f1_28c63ff4f2b2row12_col2\" class=\"data row12 col2\" >-0.00230087</td> \n",
       "    </tr>    <tr> \n",
       "        <th id=\"T_c1623f64_fe10_11e8_99f1_28c63ff4f2b2level0_row13\" class=\"row_heading level0 row13\" >None of these</th> \n",
       "        <td id=\"T_c1623f64_fe10_11e8_99f1_28c63ff4f2b2row13_col0\" class=\"data row13 col0\" >0.00528169</td> \n",
       "        <td id=\"T_c1623f64_fe10_11e8_99f1_28c63ff4f2b2row13_col1\" class=\"data row13 col1\" >0.0063252</td> \n",
       "        <td id=\"T_c1623f64_fe10_11e8_99f1_28c63ff4f2b2row13_col2\" class=\"data row13 col2\" >-0.00104351</td> \n",
       "    </tr></tbody> \n",
       "</table> "
      ],
      "text/plain": [
       "<pandas.io.formats.style.Styler at 0x224138f0da0>"
      ]
     },
     "execution_count": 11,
     "metadata": {},
     "output_type": "execute_result"
    }
   ],
   "source": [
    "#To show the Diff between Higher(ed_1_perc) and Low(ed_0_perc) Education\n",
    "ed_1_perc = clean_and_plot(ed_1, 'Higher Formal Education', plot=False)\n",
    "ed_0_perc = clean_and_plot(ed_0, 'Max of Bachelors Higher Ed', plot=False)\n",
    "\n",
    "comp_df = pd.merge(ed_1_perc, ed_0_perc, left_index=True, right_index=True)\n",
    "comp_df.columns = ['ed_1_perc', 'ed_0_perc']\n",
    "comp_df['Diff_HigherEd_Vals'] = comp_df['ed_1_perc'] - comp_df['ed_0_perc']\n",
    "comp_df.style.bar(subset=['Diff_HigherEd_Vals'], align='mid', color=['#d65f5f', '#5fba7d'])"
   ]
  },
  {
   "cell_type": "markdown",
   "metadata": {},
   "source": [
    "## 3 Gender Infuluence "
   ]
  },
  {
   "cell_type": "markdown",
   "metadata": {},
   "source": [
    "These codes below show the influence of **Gender** on result."
   ]
  },
  {
   "cell_type": "code",
   "execution_count": 17,
   "metadata": {},
   "outputs": [],
   "source": [
    "get_description('Gender')#get the description of Gender\n",
    "gender_vals=df.Gender.value_counts()#get the gender value_counts"
   ]
  },
  {
   "cell_type": "markdown",
   "metadata": {},
   "source": [
    "The function of `male`"
   ]
  },
  {
   "cell_type": "code",
   "execution_count": 18,
   "metadata": {},
   "outputs": [],
   "source": [
    "def male(gender_str):\n",
    "    '''\n",
    "    INPUT\n",
    "        ender_str - a string of one of the values from the Gender column\n",
    "    \n",
    "    OUTPUT\n",
    "        return 1 if the string is \"Male\"\n",
    "        return 0 otherwise\n",
    "    \n",
    "    '''\n",
    "    if gender_str==\"Male\":\n",
    "        return 1\n",
    "    else:\n",
    "        return 0\n"
   ]
  },
  {
   "cell_type": "markdown",
   "metadata": {},
   "source": [
    "The function of `female`"
   ]
  },
  {
   "cell_type": "code",
   "execution_count": 19,
   "metadata": {},
   "outputs": [],
   "source": [
    "def female(gender_str):\n",
    "    '''\n",
    "    INPUT\n",
    "        gender_str - a string of one of the values from the he Formal  column\n",
    "    \n",
    "    OUTPUT\n",
    "        returnfe 1 if the string is \"Female\"\n",
    "        return 0 otherwise\n",
    "    \n",
    "    '''\n",
    "    if gender_str==\"Female\":\n",
    "        return 1\n",
    "    else:\n",
    "        return 0    \n"
   ]
  },
  {
   "cell_type": "markdown",
   "metadata": {},
   "source": [
    "Get df['male']"
   ]
  },
  {
   "cell_type": "code",
   "execution_count": 20,
   "metadata": {},
   "outputs": [],
   "source": [
    "# Get df['male']\n",
    "df['male'] = df[\"Gender\"].apply(male)\n",
    "#male_perc =df['male'].mean()\n",
    "#print(male_perc)"
   ]
  },
  {
   "cell_type": "markdown",
   "metadata": {},
   "source": [
    "Get df['female']"
   ]
  },
  {
   "cell_type": "code",
   "execution_count": 21,
   "metadata": {},
   "outputs": [],
   "source": [
    "# Get df['female']\n",
    "df['female'] = df[\"Gender\"].apply(female)\n",
    "#female_perc =df['female'].mean()\n",
    "#female_perc"
   ]
  },
  {
   "cell_type": "code",
   "execution_count": 22,
   "metadata": {},
   "outputs": [],
   "source": [
    "male_df = df[df['male'] == 1] # Subset df to only those with Maleof 1\n",
    "female_df = df[df['female'] == 1] # Subset df to only those with Female of 1\n",
    "#print(male_df['male'][:5]) #Assure it looks like what you would expect\n",
    "#print(female_df['male'][:5]) #Assure it looks like what you would expect"
   ]
  },
  {
   "cell_type": "code",
   "execution_count": 23,
   "metadata": {},
   "outputs": [
    {
     "data": {
      "text/html": [
       "<style  type=\"text/css\" >\n",
       "    #T_e3ef0fb6_fe10_11e8_98c0_28c63ff4f2b2row0_col2 {\n",
       "            width:  10em;\n",
       "             height:  80%;\n",
       "            background:  linear-gradient(90deg, transparent 0%, transparent 11.5%, #d65f5f 11.5%, #d65f5f 37.7%, transparent 37.7%);\n",
       "        }    #T_e3ef0fb6_fe10_11e8_98c0_28c63ff4f2b2row1_col2 {\n",
       "            width:  10em;\n",
       "             height:  80%;\n",
       "            background:  linear-gradient(90deg, transparent 0%, transparent 37.7%, #5fba7d 37.7%, #5fba7d 39.4%, transparent 39.4%);\n",
       "        }    #T_e3ef0fb6_fe10_11e8_98c0_28c63ff4f2b2row2_col2 {\n",
       "            width:  10em;\n",
       "             height:  80%;\n",
       "            background:  linear-gradient(90deg, transparent 0%, transparent 11.5%, #d65f5f 11.5%, #d65f5f 37.7%, transparent 37.7%);\n",
       "        }    #T_e3ef0fb6_fe10_11e8_98c0_28c63ff4f2b2row3_col2 {\n",
       "            width:  10em;\n",
       "             height:  80%;\n",
       "            background:  linear-gradient(90deg, transparent 0%, transparent 27.5%, #d65f5f 27.5%, #d65f5f 37.7%, transparent 37.7%);\n",
       "        }    #T_e3ef0fb6_fe10_11e8_98c0_28c63ff4f2b2row4_col2 {\n",
       "            width:  10em;\n",
       "             height:  80%;\n",
       "            background:  linear-gradient(90deg, transparent 0%, transparent 37.7%, #5fba7d 37.7%, #5fba7d 100.0%, transparent 100.0%);\n",
       "        }    #T_e3ef0fb6_fe10_11e8_98c0_28c63ff4f2b2row5_col2 {\n",
       "            width:  10em;\n",
       "             height:  80%;\n",
       "            background:  linear-gradient(90deg, transparent 0%, transparent 26.2%, #d65f5f 26.2%, #d65f5f 37.7%, transparent 37.7%);\n",
       "        }    #T_e3ef0fb6_fe10_11e8_98c0_28c63ff4f2b2row6_col2 {\n",
       "            width:  10em;\n",
       "             height:  80%;\n",
       "            background:  linear-gradient(90deg, transparent 0%, transparent 37.7%, #5fba7d 37.7%, #5fba7d 60.1%, transparent 60.1%);\n",
       "        }    #T_e3ef0fb6_fe10_11e8_98c0_28c63ff4f2b2row7_col2 {\n",
       "            width:  10em;\n",
       "             height:  80%;\n",
       "            background:  linear-gradient(90deg, transparent 0%, transparent 28.4%, #d65f5f 28.4%, #d65f5f 37.7%, transparent 37.7%);\n",
       "        }    #T_e3ef0fb6_fe10_11e8_98c0_28c63ff4f2b2row8_col2 {\n",
       "            width:  10em;\n",
       "             height:  80%;\n",
       "            background:  linear-gradient(90deg, transparent 0%, transparent 26.7%, #d65f5f 26.7%, #d65f5f 37.7%, transparent 37.7%);\n",
       "        }    #T_e3ef0fb6_fe10_11e8_98c0_28c63ff4f2b2row9_col2 {\n",
       "            width:  10em;\n",
       "             height:  80%;\n",
       "            background:  linear-gradient(90deg, transparent 0%, transparent 37.7%, #5fba7d 37.7%, #5fba7d 69.7%, transparent 69.7%);\n",
       "        }    #T_e3ef0fb6_fe10_11e8_98c0_28c63ff4f2b2row10_col2 {\n",
       "            width:  10em;\n",
       "             height:  80%;\n",
       "            background:  linear-gradient(90deg, transparent 0%, transparent 0.0%, #d65f5f 0.0%, #d65f5f 37.7%, transparent 37.7%);\n",
       "        }    #T_e3ef0fb6_fe10_11e8_98c0_28c63ff4f2b2row11_col2 {\n",
       "            width:  10em;\n",
       "             height:  80%;\n",
       "            background:  linear-gradient(90deg, transparent 0%, transparent 37.7%, #5fba7d 37.7%, #5fba7d 54.4%, transparent 54.4%);\n",
       "        }    #T_e3ef0fb6_fe10_11e8_98c0_28c63ff4f2b2row12_col2 {\n",
       "            width:  10em;\n",
       "             height:  80%;\n",
       "            background:  linear-gradient(90deg, transparent 0%, transparent 29.9%, #d65f5f 29.9%, #d65f5f 37.7%, transparent 37.7%);\n",
       "        }    #T_e3ef0fb6_fe10_11e8_98c0_28c63ff4f2b2row13_col2 {\n",
       "            width:  10em;\n",
       "             height:  80%;\n",
       "            background:  linear-gradient(90deg, transparent 0%, transparent 37.7%, #5fba7d 37.7%, #5fba7d 41.9%, transparent 41.9%);\n",
       "        }</style>  \n",
       "<table id=\"T_e3ef0fb6_fe10_11e8_98c0_28c63ff4f2b2\" > \n",
       "<thead>    <tr> \n",
       "        <th class=\"blank level0\" ></th> \n",
       "        <th class=\"col_heading level0 col0\" >male_perc</th> \n",
       "        <th class=\"col_heading level0 col1\" >female_perc</th> \n",
       "        <th class=\"col_heading level0 col2\" >Diff_Gender_Vals</th> \n",
       "    </tr>    <tr> \n",
       "        <th class=\"index_name level0\" >benifit</th> \n",
       "        <th class=\"blank\" ></th> \n",
       "        <th class=\"blank\" ></th> \n",
       "        <th class=\"blank\" ></th> \n",
       "    </tr></thead> \n",
       "<tbody>    <tr> \n",
       "        <th id=\"T_e3ef0fb6_fe10_11e8_98c0_28c63ff4f2b2level0_row0\" class=\"row_heading level0 row0\" >Vacation/days off</th> \n",
       "        <td id=\"T_e3ef0fb6_fe10_11e8_98c0_28c63ff4f2b2row0_col0\" class=\"data row0 col0\" >0.14062</td> \n",
       "        <td id=\"T_e3ef0fb6_fe10_11e8_98c0_28c63ff4f2b2row0_col1\" class=\"data row0 col1\" >0.155683</td> \n",
       "        <td id=\"T_e3ef0fb6_fe10_11e8_98c0_28c63ff4f2b2row0_col2\" class=\"data row0 col2\" >-0.0150632</td> \n",
       "    </tr>    <tr> \n",
       "        <th id=\"T_e3ef0fb6_fe10_11e8_98c0_28c63ff4f2b2level0_row1\" class=\"row_heading level0 row1\" >emote options</th> \n",
       "        <td id=\"T_e3ef0fb6_fe10_11e8_98c0_28c63ff4f2b2row1_col0\" class=\"data row1 col0\" >0.132211</td> \n",
       "        <td id=\"T_e3ef0fb6_fe10_11e8_98c0_28c63ff4f2b2row1_col1\" class=\"data row1 col1\" >0.131219</td> \n",
       "        <td id=\"T_e3ef0fb6_fe10_11e8_98c0_28c63ff4f2b2row1_col2\" class=\"data row1 col2\" >0.000992195</td> \n",
       "    </tr>    <tr> \n",
       "        <th id=\"T_e3ef0fb6_fe10_11e8_98c0_28c63ff4f2b2level0_row2\" class=\"row_heading level0 row2\" >Health benefits</th> \n",
       "        <td id=\"T_e3ef0fb6_fe10_11e8_98c0_28c63ff4f2b2row2_col0\" class=\"data row2 col0\" >0.113423</td> \n",
       "        <td id=\"T_e3ef0fb6_fe10_11e8_98c0_28c63ff4f2b2row2_col1\" class=\"data row2 col1\" >0.128526</td> \n",
       "        <td id=\"T_e3ef0fb6_fe10_11e8_98c0_28c63ff4f2b2row2_col2\" class=\"data row2 col2\" >-0.0151031</td> \n",
       "    </tr>    <tr> \n",
       "        <th id=\"T_e3ef0fb6_fe10_11e8_98c0_28c63ff4f2b2level0_row3\" class=\"row_heading level0 row3\" >Expected work hours</th> \n",
       "        <td id=\"T_e3ef0fb6_fe10_11e8_98c0_28c63ff4f2b2row3_col0\" class=\"data row3 col0\" >0.110151</td> \n",
       "        <td id=\"T_e3ef0fb6_fe10_11e8_98c0_28c63ff4f2b2row3_col1\" class=\"data row3 col1\" >0.116001</td> \n",
       "        <td id=\"T_e3ef0fb6_fe10_11e8_98c0_28c63ff4f2b2row3_col2\" class=\"data row3 col2\" >-0.0058501</td> \n",
       "    </tr>    <tr> \n",
       "        <th id=\"T_e3ef0fb6_fe10_11e8_98c0_28c63ff4f2b2level0_row4\" class=\"row_heading level0 row4\" >Equipment</th> \n",
       "        <td id=\"T_e3ef0fb6_fe10_11e8_98c0_28c63ff4f2b2row4_col0\" class=\"data row4 col0\" >0.103837</td> \n",
       "        <td id=\"T_e3ef0fb6_fe10_11e8_98c0_28c63ff4f2b2row4_col1\" class=\"data row4 col1\" >0.0678918</td> \n",
       "        <td id=\"T_e3ef0fb6_fe10_11e8_98c0_28c63ff4f2b2row4_col2\" class=\"data row4 col2\" >0.0359449</td> \n",
       "    </tr>    <tr> \n",
       "        <th id=\"T_e3ef0fb6_fe10_11e8_98c0_28c63ff4f2b2level0_row5\" class=\"row_heading level0 row5\" >Professional development sponsorship</th> \n",
       "        <td id=\"T_e3ef0fb6_fe10_11e8_98c0_28c63ff4f2b2row5_col0\" class=\"data row5 col0\" >0.093948</td> \n",
       "        <td id=\"T_e3ef0fb6_fe10_11e8_98c0_28c63ff4f2b2row5_col1\" class=\"data row5 col1\" >0.10055</td> \n",
       "        <td id=\"T_e3ef0fb6_fe10_11e8_98c0_28c63ff4f2b2row5_col2\" class=\"data row5 col2\" >-0.00660218</td> \n",
       "    </tr>    <tr> \n",
       "        <th id=\"T_e3ef0fb6_fe10_11e8_98c0_28c63ff4f2b2level0_row6\" class=\"row_heading level0 row6\" >Annual bonus</th> \n",
       "        <td id=\"T_e3ef0fb6_fe10_11e8_98c0_28c63ff4f2b2row6_col0\" class=\"data row6 col0\" >0.0780052</td> \n",
       "        <td id=\"T_e3ef0fb6_fe10_11e8_98c0_28c63ff4f2b2row6_col1\" class=\"data row6 col1\" >0.0650825</td> \n",
       "        <td id=\"T_e3ef0fb6_fe10_11e8_98c0_28c63ff4f2b2row6_col2\" class=\"data row6 col2\" >0.0129226</td> \n",
       "    </tr>    <tr> \n",
       "        <th id=\"T_e3ef0fb6_fe10_11e8_98c0_28c63ff4f2b2level0_row7\" class=\"row_heading level0 row7\" >Retirement</th> \n",
       "        <td id=\"T_e3ef0fb6_fe10_11e8_98c0_28c63ff4f2b2row7_col0\" class=\"data row7 col0\" >0.0646882</td> \n",
       "        <td id=\"T_e3ef0fb6_fe10_11e8_98c0_28c63ff4f2b2row7_col1\" class=\"data row7 col1\" >0.0699988</td> \n",
       "        <td id=\"T_e3ef0fb6_fe10_11e8_98c0_28c63ff4f2b2row7_col2\" class=\"data row7 col2\" >-0.0053106</td> \n",
       "    </tr>    <tr> \n",
       "        <th id=\"T_e3ef0fb6_fe10_11e8_98c0_28c63ff4f2b2level0_row8\" class=\"row_heading level0 row8\" >Education sponsorship</th> \n",
       "        <td id=\"T_e3ef0fb6_fe10_11e8_98c0_28c63ff4f2b2row8_col0\" class=\"data row8 col0\" >0.0412117</td> \n",
       "        <td id=\"T_e3ef0fb6_fe10_11e8_98c0_28c63ff4f2b2row8_col1\" class=\"data row8 col1\" >0.0475243</td> \n",
       "        <td id=\"T_e3ef0fb6_fe10_11e8_98c0_28c63ff4f2b2row8_col2\" class=\"data row8 col2\" >-0.00631264</td> \n",
       "    </tr>    <tr> \n",
       "        <th id=\"T_e3ef0fb6_fe10_11e8_98c0_28c63ff4f2b2level0_row9\" class=\"row_heading level0 row9\" >Stock options</th> \n",
       "        <td id=\"T_e3ef0fb6_fe10_11e8_98c0_28c63ff4f2b2row9_col0\" class=\"data row9 col0\" >0.0368456</td> \n",
       "        <td id=\"T_e3ef0fb6_fe10_11e8_98c0_28c63ff4f2b2row9_col1\" class=\"data row9 col1\" >0.0183776</td> \n",
       "        <td id=\"T_e3ef0fb6_fe10_11e8_98c0_28c63ff4f2b2row9_col2\" class=\"data row9 col2\" >0.018468</td> \n",
       "    </tr>    <tr> \n",
       "        <th id=\"T_e3ef0fb6_fe10_11e8_98c0_28c63ff4f2b2level0_row10\" class=\"row_heading level0 row10\" >Long-term leave</th> \n",
       "        <td id=\"T_e3ef0fb6_fe10_11e8_98c0_28c63ff4f2b2row10_col0\" class=\"data row10 col0\" >0.0329589</td> \n",
       "        <td id=\"T_e3ef0fb6_fe10_11e8_98c0_28c63ff4f2b2row10_col1\" class=\"data row10 col1\" >0.0546646</td> \n",
       "        <td id=\"T_e3ef0fb6_fe10_11e8_98c0_28c63ff4f2b2row10_col2\" class=\"data row10 col2\" >-0.0217057</td> \n",
       "    </tr>    <tr> \n",
       "        <th id=\"T_e3ef0fb6_fe10_11e8_98c0_28c63ff4f2b2level0_row11\" class=\"row_heading level0 row11\" > Private office</th> \n",
       "        <td id=\"T_e3ef0fb6_fe10_11e8_98c0_28c63ff4f2b2row11_col0\" class=\"data row11 col0\" >0.0269569</td> \n",
       "        <td id=\"T_e3ef0fb6_fe10_11e8_98c0_28c63ff4f2b2row11_col1\" class=\"data row11 col1\" >0.0173241</td> \n",
       "        <td id=\"T_e3ef0fb6_fe10_11e8_98c0_28c63ff4f2b2row11_col2\" class=\"data row11 col2\" >0.00963278</td> \n",
       "    </tr>    <tr> \n",
       "        <th id=\"T_e3ef0fb6_fe10_11e8_98c0_28c63ff4f2b2level0_row12\" class=\"row_heading level0 row12\" > Child/elder care</th> \n",
       "        <td id=\"T_e3ef0fb6_fe10_11e8_98c0_28c63ff4f2b2row12_col0\" class=\"data row12 col0\" >0.0205589</td> \n",
       "        <td id=\"T_e3ef0fb6_fe10_11e8_98c0_28c63ff4f2b2row12_col1\" class=\"data row12 col1\" >0.0250497</td> \n",
       "        <td id=\"T_e3ef0fb6_fe10_11e8_98c0_28c63ff4f2b2row12_col2\" class=\"data row12 col2\" >-0.00449081</td> \n",
       "    </tr>    <tr> \n",
       "        <th id=\"T_e3ef0fb6_fe10_11e8_98c0_28c63ff4f2b2level0_row13\" class=\"row_heading level0 row13\" >None of these</th> \n",
       "        <td id=\"T_e3ef0fb6_fe10_11e8_98c0_28c63ff4f2b2row13_col0\" class=\"data row13 col0\" >0.00458486</td> \n",
       "        <td id=\"T_e3ef0fb6_fe10_11e8_98c0_28c63ff4f2b2row13_col1\" class=\"data row13 col1\" >0.00210699</td> \n",
       "        <td id=\"T_e3ef0fb6_fe10_11e8_98c0_28c63ff4f2b2row13_col2\" class=\"data row13 col2\" >0.00247787</td> \n",
       "    </tr></tbody> \n",
       "</table> "
      ],
      "text/plain": [
       "<pandas.io.formats.style.Styler at 0x22418c5f160>"
      ]
     },
     "execution_count": 23,
     "metadata": {},
     "output_type": "execute_result"
    }
   ],
   "source": [
    "# Male DataFrame\n",
    "male_perc = clean_and_plot(male_df, 'Male', plot=False)\n",
    "# Fmale DataFrame\n",
    "female_perc = clean_and_plot(female_df, 'Female', plot=False)\n",
    "# Merge Male and Female DataFrame\n",
    "comp_df = pd.merge(male_perc, female_perc, left_index=True, right_index=True)\n",
    "comp_df.columns = ['male_perc', 'female_perc']\n",
    "#Calculate the diff\n",
    "comp_df['Diff_Gender_Vals'] = comp_df['male_perc'] - comp_df['female_perc']\n",
    "#Shou the bar\n",
    "comp_df.style.bar(subset=['Diff_Gender_Vals'], align='mid', color=['#d65f5f', '#5fba7d'])"
   ]
  }
 ],
 "metadata": {
  "kernelspec": {
   "display_name": "Python 3",
   "language": "python",
   "name": "python3"
  },
  "language_info": {
   "codemirror_mode": {
    "name": "ipython",
    "version": 3
   },
   "file_extension": ".py",
   "mimetype": "text/x-python",
   "name": "python",
   "nbconvert_exporter": "python",
   "pygments_lexer": "ipython3",
   "version": "3.7.0"
  }
 },
 "nbformat": 4,
 "nbformat_minor": 2
}
